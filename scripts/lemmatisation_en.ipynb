{
  "nbformat": 4,
  "nbformat_minor": 0,
  "metadata": {
    "colab": {
      "provenance": []
    },
    "kernelspec": {
      "name": "python3",
      "display_name": "Python 3"
    },
    "language_info": {
      "name": "python"
    }
  },
  "cells": [
    {
      "cell_type": "code",
      "source": [
        "import sys\n",
        "import nltk\n",
        "from nltk.stem import WordNetLemmatizer\n",
        "from nltk.tokenize import word_tokenize\n",
        "\n",
        "nltk.download('wordnet')\n",
        "nltk.download('punkt')\n",
        "\n",
        "lemmatizer = WordNetLemmatizer()\n",
        "\n",
        "def lemmatize_text_simple(text):\n",
        "    tokens = word_tokenize(text)\n",
        "    lemmas = [lemmatizer.lemmatize(word) for word in tokens]\n",
        "    return ' '.join(lemmas)\n",
        "\n",
        "def process_file(input_file_path):\n",
        "    # Generate output file path by appending '_lemme'\n",
        "    output_file_path = input_file_path.replace('.tok.true.clean.en', '_lemme.en')\n",
        "\n",
        "    with open(input_file_path, 'r', encoding='utf-8') as file:\n",
        "        text = file.read()\n",
        "\n",
        "    lemmatized_text = lemmatize_text_simple(text)\n",
        "\n",
        "    with open(output_file_path, 'w', encoding='utf-8') as file:\n",
        "        file.write(lemmatized_text)\n",
        "\n",
        "# Read the first command line argument passed to the script for the input file\n",
        "if len(sys.argv) > 1:\n",
        "    input_file_path = sys.argv[1]\n",
        "    process_file(input_file_path)\n",
        "else:\n",
        "    print(\"Please provide the input file path as an argument.\")"
      ],
      "metadata": {
        "id": "r-TEHwmyrEsV"
      },
      "execution_count": null,
      "outputs": []
    }
  ]
}