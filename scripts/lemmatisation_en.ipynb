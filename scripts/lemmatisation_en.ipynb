{
  "nbformat": 4,
  "nbformat_minor": 0,
  "metadata": {
    "colab": {
      "provenance": []
    },
    "kernelspec": {
      "name": "python3",
      "display_name": "Python 3"
    },
    "language_info": {
      "name": "python"
    }
  },
  "cells": [
    {
      "cell_type": "code",
      "source": [
        "import sys\n",
        "import nltk\n",
        "from nltk.stem import WordNetLemmatizer\n",
        "\n",
        "# Assurez-vous que les données WordNet sont téléchargées\n",
        "nltk.download('wordnet')\n",
        "\n",
        "# Initialiser le lemmatiseur\n",
        "lemmatizer = WordNetLemmatizer()\n",
        "\n",
        "def lemmatize_english_file(input_file_path):\n",
        "\n",
        "    # Remplacer l'extension du fichier\n",
        "    output_file_path = input_file_path.replace('.tok.true.clean', '_lemme')\n",
        "\n",
        "    # Ouvrir le fichier d'entrée et le fichier de sortie\n",
        "    with open(input_file_path, 'r', encoding='utf-8') as infile, \\\n",
        "         open(output_file_path, 'w', encoding='utf-8') as outfile:\n",
        "\n",
        "        # Lire et traiter le fichier ligne par ligne\n",
        "        for line in infile:\n",
        "            # Tokenisation\n",
        "            words = nltk.word_tokenize(line)\n",
        "            # Lemmatisation\n",
        "            lemmas = [lemmatizer.lemmatize(word) for word in words]\n",
        "            # Recombiner les lemmes en phrases et écrire dans le fichier de sortie\n",
        "            outfile.write(' '.join(lemmas) + '\\n')\n",
        "\n",
        "# Vérifier les arguments de ligne de commande\n",
        "if len(sys.argv) > 1:\n",
        "    input_file_path = sys.argv[1]\n",
        "    lemmatize_english_file(input_file_path)\n",
        "else:\n",
        "    print(\"Veuillez fournir le chemin du fichier d'entrée en argument.\")\n"
      ],
      "metadata": {
        "id": "38OeBqMeK_5T"
      },
      "execution_count": null,
      "outputs": []
    }
  ]
}