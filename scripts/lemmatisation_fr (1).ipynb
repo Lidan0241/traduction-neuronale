{
  "nbformat": 4,
  "nbformat_minor": 0,
  "metadata": {
    "colab": {
      "provenance": []
    },
    "kernelspec": {
      "name": "python3",
      "display_name": "Python 3"
    },
    "language_info": {
      "name": "python"
    }
  },
  "cells": [
    {
      "cell_type": "code",
      "source": [
        "import sys\n",
        "import nltk\n",
        "from french_lefff_lemmatizer.french_lefff_lemmatizer import FrenchLefffLemmatizer"
      ],
      "metadata": {
        "id": "JThez5HnULX2"
      },
      "execution_count": 34,
      "outputs": []
    },
    {
      "cell_type": "code",
      "source": [
        "nltk.download('punkt')\n",
        "\n",
        "# 初始化法语词形还原器\n",
        "lemmatizer = FrenchLefffLemmatizer()\n",
        "\n",
        "def lemmatize_french_file(input_file_path):\n",
        "    # 替换文件后缀以创建输出文件名\n",
        "    output_file_path = input_file_path.replace('tok.true.clean.fr', '_lemme.fr')\n",
        "\n",
        "    # 打开输入文件和输出文件\n",
        "    with open(input_file_path, 'r', encoding='utf-8') as infile, \\\n",
        "         open(output_file_path, 'w', encoding='utf-8') as outfile:\n",
        "\n",
        "        # 逐行读取和处理文件\n",
        "        for line in infile:\n",
        "            # 对每行文本进行分词\n",
        "            tokens = nltk.word_tokenize(line, language='french')\n",
        "            # 对每个分词进行词形还原\n",
        "            lemmatized_tokens = [lemmatizer.lemmatize(token) for token in tokens]\n",
        "            # 将还原后的词重新组合成句子，并写入输出文件\n",
        "            lemmatized_line = ' '.join(lemmatized_tokens) + '\\n'\n",
        "            outfile.write(lemmatized_line)\n",
        "\n",
        "# 从命令行参数读取输入文件路径\n",
        "if len(sys.argv) > 1:\n",
        "    input_file_path = sys.argv[1]\n",
        "    lemmatize_french_file(input_file_path)\n",
        "else:\n",
        "    print(\"Veuillez fournir le chemin du fichier d'entrée en argument.\")\n"
      ],
      "metadata": {
        "id": "_dxqr38XUQOs"
      },
      "execution_count": null,
      "outputs": []
    }
  ]
}