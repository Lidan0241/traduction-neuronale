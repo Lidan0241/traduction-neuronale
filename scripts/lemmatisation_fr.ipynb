{
  "nbformat": 4,
  "nbformat_minor": 0,
  "metadata": {
    "colab": {
      "provenance": []
    },
    "kernelspec": {
      "name": "python3",
      "display_name": "Python 3"
    },
    "language_info": {
      "name": "python"
    }
  },
  "cells": [
    {
      "cell_type": "code",
      "source": [
        "import sys\n",
        "import nltk\n",
        "from french_lefff_lemmatizer.french_lefff_lemmatizer import FrenchLefffLemmatizer\n",
        "\n",
        "nltk.download('punkt')\n",
        "\n",
        "lemmatizer = FrenchLefffLemmatizer()\n",
        "\n",
        "def lemmatize_french_file(input_file_path):\n",
        "\n",
        "    output_file_path = input_file_path.replace('tok.true.clean.fr', '_lemme.fr')\n",
        "\n",
        "    with open(input_file_path, 'r', encoding='utf-8') as file:\n",
        "        text = file.read()\n",
        "\n",
        "    # Tokenization of text using NLTK's tokenizer\n",
        "    tokens = nltk.word_tokenize(text, language='french')\n",
        "\n",
        "    # Lemmatization of each token and collection of results\n",
        "    lemmatized_tokens = [lemmatizer.lemmatize(token) for token in tokens]\n",
        "\n",
        "    # Reassembling lemmatized tokens into a single text string\n",
        "    lemmatized_text = ' '.join(lemmatized_tokens)\n",
        "\n",
        "    # Writing the lemmatized text to the output file\n",
        "    with open(output_file_path, 'w', encoding='utf-8') as file:\n",
        "        file.write(lemmatized_text)\n",
        "\n",
        "# Read the first command line argument for the input file path\n",
        "if len(sys.argv) > 1:\n",
        "    input_file_path = sys.argv[1]\n",
        "    lemmatize_french_file(input_file_path)\n",
        "else:\n",
        "    print(\"Please provide the input file path as an argument.\")"
      ],
      "metadata": {
        "id": "Nh9VhuSCsKZT"
      },
      "execution_count": null,
      "outputs": []
    }
  ]
}